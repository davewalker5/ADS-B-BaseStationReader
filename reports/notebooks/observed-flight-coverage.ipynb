{
 "cells": [
  {
   "cell_type": "code",
   "execution_count": 11,
   "id": "2a42bcec",
   "metadata": {},
   "outputs": [],
   "source": [
    "%run pathutils.ipynb\n",
    "%run database.ipynb\n",
    "%run export.ipynb"
   ]
  },
  {
   "cell_type": "markdown",
   "id": "ffd7220b",
   "metadata": {},
   "source": [
    "The next cell extracts observed flights from the FlightRecorder database and writes summary details for those flights to the OBSERVED_FLIGHT table in the ADS-B BaseStation Reader database so comparison queries with the flight number mappings can be run"
   ]
  },
  {
   "cell_type": "code",
   "execution_count": null,
   "id": "1016ec5c",
   "metadata": {},
   "outputs": [],
   "source": [
    "# Construct the query\n",
    "query = construct_query(\"recorder\", \"mapping\", \"export-observed-flights.sql\", {})\n",
    "\n",
    "try:\n",
    "    # Run the query to load the data from the recorder database - this raises a ValueError if there's no data\n",
    "    df = query_data(\"recorder\", query)\n",
    "\n",
    "    # Write the data to the observed flights table in the tracking databasse\n",
    "    write_data_to_table(\"tracker\", \"OBSERVED_FLIGHT\", df)\n",
    "\n",
    "except ValueError:\n",
    "    print(f\"WARNING: No data found\")"
   ]
  },
  {
   "cell_type": "markdown",
   "id": "56d5066e",
   "metadata": {},
   "source": [
    "The next cell exports a report listing how many flight numbers in the OBSERVED_FLIGHT data match either the flight number or callsign in the mapping table"
   ]
  },
  {
   "cell_type": "code",
   "execution_count": null,
   "id": "9349d776",
   "metadata": {},
   "outputs": [],
   "source": [
    "# Construct the query\n",
    "query = construct_query(\"tracker\", \"mapping\", \"observed-flight-match-counts.sql\", {})\n",
    "\n",
    "try:\n",
    "    # Run the query to load the data - this raises a ValueError if there's no data\n",
    "    df = query_data(\"tracker\", query)\n",
    "\n",
    "    # Export the data to excel\n",
    "    export_folder_path = get_export_folder_path()\n",
    "    export_to_spreadsheet(export_folder_path, \"observed-flight-match-counts.xlsx\", {\n",
    "        \"Observed Flight Matches\": df\n",
    "    })\n",
    "\n",
    "except ValueError:\n",
    "    print(f\"WARNING: No data found\")"
   ]
  },
  {
   "cell_type": "markdown",
   "id": "63a5e2de",
   "metadata": {},
   "source": [
    "The next cell generates a list of flights that *should* be mapped but aren't, likely because the API calls to look up the aircraft and flight number return no data"
   ]
  },
  {
   "cell_type": "code",
   "execution_count": null,
   "id": "0f91d4f4",
   "metadata": {},
   "outputs": [],
   "source": [
    "# Construct the query\n",
    "query = construct_query(\"tracker\", \"mapping\", \"unmapped-mapable-flights.sql\", {})\n",
    "\n",
    "try:\n",
    "    # Run the query to load the data - this raises a ValueError if there's no data\n",
    "    df = query_data(\"tracker\", query)\n",
    "\n",
    "    # Export the data to excel\n",
    "    export_folder_path = get_export_folder_path()\n",
    "    export_to_spreadsheet(export_folder_path, \"unmapped-mapable-flights.xlsx\", {\n",
    "        \"Unmapped Flights\": df\n",
    "    })\n",
    "\n",
    "except ValueError:\n",
    "    print(f\"WARNING: No data found\")"
   ]
  }
 ],
 "metadata": {
  "kernelspec": {
   "display_name": "venv",
   "language": "python",
   "name": "python3"
  },
  "language_info": {
   "codemirror_mode": {
    "name": "ipython",
    "version": 3
   },
   "file_extension": ".py",
   "mimetype": "text/x-python",
   "name": "python",
   "nbconvert_exporter": "python",
   "pygments_lexer": "ipython3",
   "version": "3.13.6"
  }
 },
 "nbformat": 4,
 "nbformat_minor": 5
}
