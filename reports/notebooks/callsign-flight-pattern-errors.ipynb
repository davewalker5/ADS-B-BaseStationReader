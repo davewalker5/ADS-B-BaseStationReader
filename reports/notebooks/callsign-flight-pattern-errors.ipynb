{
 "cells": [
  {
   "cell_type": "code",
   "execution_count": null,
   "id": "a07ce0f8",
   "metadata": {},
   "outputs": [],
   "source": [
    "%run pathutils.ipynb\n",
    "%run database.ipynb\n",
    "%run export.ipynb"
   ]
  },
  {
   "cell_type": "code",
   "execution_count": null,
   "id": "10b5b18f",
   "metadata": {},
   "outputs": [],
   "source": [
    "# Construct the query\n",
    "query = construct_query(\"tracker\", \"mapping\", \"callsign-flight-number-validity.sql\", {})\n",
    "\n",
    "try:\n",
    "    # Run the query to load the data - this raises a ValueError if there's no data\n",
    "    df = query_data(\"tracker\", query)\n",
    "\n",
    "    # Export the data to excel\n",
    "    export_folder_path = get_export_folder_path()\n",
    "    export_to_spreadsheet(export_folder_path, \"callsign-flight-number-validity.xlsx\", {\n",
    "        \"Errors\": df\n",
    "    })\n",
    "\n",
    "except ValueError:\n",
    "    print(f\"WARNING: No data found\")"
   ]
  }
 ],
 "metadata": {
  "kernelspec": {
   "display_name": "venv",
   "language": "python",
   "name": "python3"
  },
  "language_info": {
   "codemirror_mode": {
    "name": "ipython",
    "version": 3
   },
   "file_extension": ".py",
   "mimetype": "text/x-python",
   "name": "python",
   "nbconvert_exporter": "python",
   "pygments_lexer": "ipython3",
   "version": "3.13.6"
  }
 },
 "nbformat": 4,
 "nbformat_minor": 5
}
