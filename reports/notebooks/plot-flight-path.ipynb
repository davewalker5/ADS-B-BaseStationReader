{
 "cells": [
  {
   "cell_type": "markdown",
   "id": "a3a623da",
   "metadata": {},
   "source": [
    "# Rudimentary Flight Path Plot\n",
    "\n",
    "Set the ICAO address for a tracked aircraft, with position information, and the time range (taken from records in the POSITION table) in the next cell"
   ]
  },
  {
   "cell_type": "code",
   "execution_count": 293,
   "id": "bcc73911",
   "metadata": {},
   "outputs": [],
   "source": [
    "from datetime import datetime\n",
    "\n",
    "aircraft_address = \"44034B\"\n",
    "start_timestamp = datetime(2025, 10, 15, 19, 40, 15)\n",
    "end_timestamp = None"
   ]
  },
  {
   "cell_type": "code",
   "execution_count": 294,
   "id": "2c5d69ab",
   "metadata": {},
   "outputs": [],
   "source": [
    "\n",
    "EARTH_RADIUS = 6371000.0\n",
    "\n",
    "MAX_SEGMENT_GAP_SECONDS = 90\n",
    "\n",
    "TITLE = dict(\n",
    "    x=0.5,                  # horizontal centre (0 = left, 0.5 = middle, 1 = right)\n",
    "    xanchor='center',       # anchor the title to the centre position\n",
    "    yanchor='top',          # keep it above the chart\n",
    "    font=dict(size=18)      # optional: make it a bit larger\n",
    ")\n",
    "\n",
    "COLOURBAR = dict(\n",
    "    title=\"Altitude (m)\",\n",
    "    x=1.05,\n",
    "    xanchor=\"left\",\n",
    "    y=0.5\n",
    ")\n",
    "\n",
    "LIGHTING = dict(\n",
    "    ambient=0.6,     # general scene light\n",
    "    diffuse=0.8,     # brightness on lit surfaces\n",
    "    specular=0.3,    # shininess\n",
    "    roughness=0.5,   # 0 = mirror smooth, 1 = matte\n",
    "    fresnel=0.2      # reflectivity edge highlight\n",
    ")\n",
    "\n",
    "LIGHTPOSITION = dict(\n",
    "    x=2000,          # east-west offset in local coords\n",
    "    y=0,             # north-south offset\n",
    "    z=8000           # altitude of the light source (sun height)\n",
    ")\n",
    "\n",
    "LEGEND = dict(\n",
    "    x=0.02,\n",
    "    y=0.98, \n",
    "    bgcolor=\"rgba(255,255,255,0.7)\",\n",
    "    bordercolor=\"rgba(0,0,0,0.2)\",\n",
    "    borderwidth=1\n",
    ")"
   ]
  },
  {
   "cell_type": "code",
   "execution_count": 295,
   "id": "34ae6b8b",
   "metadata": {},
   "outputs": [],
   "source": [
    "%run pathutils.ipynb\n",
    "%run database.ipynb"
   ]
  },
  {
   "cell_type": "code",
   "execution_count": 296,
   "id": "a5da1a3c",
   "metadata": {},
   "outputs": [],
   "source": [
    "import pandas as pd\n",
    "\n",
    "def load_flight_path(address, from_timestamp=None, to_timestamp=None):\n",
    "    # Construct and run the query for the specified address\n",
    "    query = construct_query(\"tracker\", \"reports\", \"list-flight-path.sql\", { \"ADDRESS\": address })\n",
    "    df = query_data(\"tracker\", query)\n",
    "\n",
    "    # Convert the timestamp to datetime and filter based on the timestamp limits\n",
    "    df[\"Timestamp\"] = pd.to_datetime(df[\"Timestamp\"], errors=\"coerce\", utc=False)\n",
    "    df = df.dropna(subset=[\"Latitude\",\"Longitude\",\"Altitude\",\"Distance\",\"Timestamp\"]).reset_index(drop=True)\n",
    "\n",
    "    if from_timestamp:\n",
    "        df = df[(df[\"Timestamp\"] > from_timestamp)]\n",
    "\n",
    "    if to_timestamp:\n",
    "        df = df[(df[\"timestamp\"] < to_timestamp)]\n",
    "\n",
    "    # Convert altitude to metres and make sure all properties are numeric\n",
    "    df[\"Altitude\"] = pd.to_numeric(df[\"Altitude\"], errors=\"coerce\") * 0.3048\n",
    "    df[\"Latitude\"] = pd.to_numeric(df[\"Latitude\"], errors=\"coerce\")\n",
    "    df[\"Longitude\"] = pd.to_numeric(df[\"Longitude\"], errors=\"coerce\")\n",
    "    df[\"Distance\"] = pd.to_numeric(df[\"Distance\"], errors=\"coerce\")\n",
    "\n",
    "    return df"
   ]
  },
  {
   "cell_type": "code",
   "execution_count": 297,
   "id": "b052da24",
   "metadata": {},
   "outputs": [],
   "source": [
    "import numpy as np\n",
    "\n",
    "def calculate_z_range(flight_path_df):\n",
    "    \"\"\"\n",
    "    Calculate a padded Z-range based on the minimum and maximum altitude in the whole plot\n",
    "    \"\"\"\n",
    "\n",
    "    # Calculate the range\n",
    "    altitude = flight_path_df[\"Altitude\"].to_numpy()\n",
    "    zmin = float(np.nanmin(altitude))\n",
    "    zmax = float(np.nanmax(altitude))\n",
    "\n",
    "    # Pad it (10% or a minimum of 250m padding)\n",
    "    zpad = max((zmax - zmin) * 0.1, 250.0)\n",
    "    zmin = max(0.0, zmin - zpad)\n",
    "    zmax = zmax + zpad\n",
    "\n",
    "    return zmin, zmax"
   ]
  },
  {
   "cell_type": "code",
   "execution_count": 298,
   "id": "21861da0",
   "metadata": {},
   "outputs": [],
   "source": [
    "def segment_on_gaps(df):\n",
    "    \"\"\"\n",
    "    Split into segments at points where the time gaps exceed max_gap_seconds\n",
    "    \"\"\"\n",
    "    s = df.sort_values(\"Timestamp\").reset_index(drop=True).copy()\n",
    "    dt = s[\"Timestamp\"].diff().dt.total_seconds().fillna(0)\n",
    "    group_id = (dt > MAX_SEGMENT_GAP_SECONDS).cumsum()\n",
    "    return [seg.reset_index(drop=True) for _, seg in s.groupby(group_id)]"
   ]
  },
  {
   "cell_type": "code",
   "execution_count": 299,
   "id": "a8ae5f96",
   "metadata": {},
   "outputs": [],
   "source": [
    "import numpy as np\n",
    "\n",
    "def coordinates_to_local_xy(latitude, longitude):\n",
    "    \"\"\"\n",
    "    Equirectangular (plate carrée) projection - convert latitude and longitude into east-west (x)\n",
    "    and north-south (y). x increases Eastwards and y increases Northwards relative to a reference\n",
    "    point, taken as the first point in the trace\n",
    "    \"\"\"\n",
    "    latitude = np.asarray(latitude)\n",
    "    longitude = np.asarray(longitude)\n",
    "\n",
    "    # Convert the points to radians\n",
    "    latitude_rad = np.radians(latitude)\n",
    "    longitude_rad = np.radians(longitude)\n",
    "    ref_latitude_rad = np.radians(latitude[0])\n",
    "    ref_longitude_rad = np.radians(longitude[0])\n",
    "\n",
    "    # Calculate the differences between the latitude and the reference point\n",
    "    delta_longitude = longitude_rad - ref_longitude_rad\n",
    "    delta_latitude = latitude_rad - ref_latitude_rad\n",
    "\n",
    "    # Calculate to local distance in meters: x = East-West, y = North-South\n",
    "    x = delta_longitude * np.cos(ref_latitude_rad) * EARTH_RADIUS   \n",
    "    y = delta_latitude * EARTH_RADIUS\n",
    "\n",
    "    return x, y"
   ]
  },
  {
   "cell_type": "code",
   "execution_count": 300,
   "id": "fec623ac",
   "metadata": {},
   "outputs": [],
   "source": [
    "import numpy as np\n",
    "\n",
    "def curtain_mesh(x, y, z):\n",
    "    \"\"\"\n",
    "    Build a vertical 'curtain' mesh under a polyline (x,y,z). For every point in the flight, the top vertex\n",
    "    is the position of the aircraft and the bottom vertex is the same (x, y) but on the ground. Between\n",
    "    consecutive segments, the vertices are joined by triangles\n",
    "\n",
    "    Returns:\n",
    "        X, Y, Z: vertex coordinates (each length 2*len(x))\n",
    "        I, J, K: triangle index arrays for Plotly Mesh3d\n",
    "\n",
    "    \"\"\"\n",
    "    x = np.asarray(x)\n",
    "    y = np.asarray(y)\n",
    "    z = np.asarray(z)\n",
    "\n",
    "    # Allocate space for top and bottom vertices\n",
    "    X = np.empty(2*len(x))\n",
    "    Y = np.empty(2*len(y))\n",
    "    Z = np.empty(2*len(z))\n",
    "\n",
    "    # For each point, make a top vertex (even index) and a bottom vertex (odd index)\n",
    "    X[0::2], X[1::2] = x, x\n",
    "    Y[0::2], Y[1::2] = y, y\n",
    "    Z[0::2], Z[1::2] = z, 0.0\n",
    "\n",
    "    i=j=k=[]\n",
    "    i=[]\n",
    "    j=[]\n",
    "    k=[]\n",
    "\n",
    "    # Build triangles\n",
    "    for t in range(len(x)-1):\n",
    "        # indices of the four vertices forming one quad\n",
    "        t0 = 2*t            # top of point t\n",
    "        b0 = 2*t + 1        # bottom of point t\n",
    "        t1 = 2*(t+1)        # top of point t+1\n",
    "        b1 = 2*(t+1)+1      # bottom of point t+1\n",
    "\n",
    "        # Split the quad into two triangles: (t0, b0, b1) and (t0, b1, t1)\n",
    "        i += [t0, t0]\n",
    "        j += [b0, b1]\n",
    "        k += [b1, t1]\n",
    "\n",
    "    return X, Y, Z, np.array(i), np.array(j), np.array(k)"
   ]
  },
  {
   "cell_type": "code",
   "execution_count": 301,
   "id": "de129b10",
   "metadata": {},
   "outputs": [],
   "source": [
    "import numpy as np\n",
    "import plotly.graph_objects as go\n",
    "\n",
    "def plot_flight_ribbon(df, zmin, zmax):\n",
    "    # Calculate the east-west, north-south coordinates and the curtain mesh\n",
    "    x, y = coordinates_to_local_xy(df[\"Latitude\"], df[\"Longitude\"])\n",
    "    X, Y, Z, I, J, K = curtain_mesh(x, y, df[\"Altitude\"])\n",
    "\n",
    "    # Create a new figure\n",
    "    fig = go.Figure()\n",
    "\n",
    "    # Add the ribbon to the figure\n",
    "    fig.add_trace(\n",
    "        go.Mesh3d(\n",
    "            x=X, y=Y, z=Z,\n",
    "            i=I, j=J, k=K,\n",
    "            opacity=0.85,\n",
    "            flatshading=True,\n",
    "            name=\"Ribbon\",\n",
    "            intensity=Z,\n",
    "            colorscale=\"Plasma\",\n",
    "            colorbar=COLOURBAR,\n",
    "            lighting=LIGHTING,\n",
    "            lightposition=LIGHTPOSITION,\n",
    "            showscale=True\n",
    "        )\n",
    "    )\n",
    "\n",
    "    # Add the flight path and ground trace\n",
    "    fig.add_trace(go.Scatter3d(x=x, y=y, z=df[\"Altitude\"], mode=\"lines\", line=dict(width=4), name=\"Flight path\"))\n",
    "    fig.add_trace(go.Scatter3d(x=x, y=y, z=np.zeros_like(df[\"Altitude\"]), mode=\"lines\", line=dict(width=2, dash=\"dash\"), name=\"Ground trace\"))\n",
    "\n",
    "    # Apply z-range explicitly and turn off autorange\n",
    "    fig.update_scenes(aspectmode=\"data\", zaxis_autorange=False, zaxis_range=[zmin, zmax])\n",
    "\n",
    "    return fig"
   ]
  },
  {
   "cell_type": "code",
   "execution_count": 302,
   "id": "fbf42f48",
   "metadata": {},
   "outputs": [],
   "source": [
    "from plotly.subplots import make_subplots\n",
    "import plotly.graph_objects as go\n",
    "import pandas as pd\n",
    "import math\n",
    "\n",
    "def attach_info_strip(fig_3d, info, columns=3, row_heights=(0.82, 0.18), height=820):\n",
    "    \"\"\"\n",
    "    Takes an existing 3D figure (with a single scene) and returns a new figure\n",
    "    that has the 3D scene on row 1 and a Table 'info strip' on row 2.\n",
    "\n",
    "    info: dict like {\"Flight\": \"BA123 (SPEEDBIRD)\", \"Airline\": \"British Airways\", ...}\n",
    "    columns: how many items per line in the strip.\n",
    "    \"\"\"\n",
    "    # Create a 2-row figure: top = 3D scene, bottom = domain for Table\n",
    "    fig = make_subplots(\n",
    "        rows=2, cols=1,\n",
    "        specs=[[{\"type\": \"scene\"}],\n",
    "               [{\"type\": \"domain\"}]],\n",
    "        row_heights=list(row_heights),\n",
    "        vertical_spacing=0.06\n",
    "    )\n",
    "\n",
    "    # Move all traces from the original fig into row 1\n",
    "    for tr in fig_3d.data:\n",
    "        fig.add_trace(tr, row=1, col=1)\n",
    "\n",
    "    # --- copy layout WITHOUT overriding the subplot's scene domain ---\n",
    "    if getattr(fig_3d.layout, \"scene\", None) is not None:\n",
    "        scene_json = fig_3d.layout.scene.to_plotly_json()\n",
    "        scene_json.pop(\"domain\", None)          # <-- CRITICAL: don't clobber subplot domain\n",
    "        fig.update_layout(scene=scene_json)\n",
    "\n",
    "    # keep your title/legend/coloraxis if present\n",
    "    if getattr(fig_3d.layout, \"title\", None) is not None:\n",
    "        fig.update_layout(title=fig_3d.layout.title)\n",
    "    if getattr(fig_3d.layout, \"legend\", None) is not None:\n",
    "        fig.update_layout(legend=fig_3d.layout.legend)\n",
    "    if getattr(fig_3d.layout, \"coloraxis\", None) is not None:\n",
    "        fig.update_layout(coloraxis=fig_3d.layout.coloraxis)\n",
    "\n",
    "    # ensure figure is tall enough and margins leave room\n",
    "    fig.update_layout(\n",
    "        height=height,\n",
    "        margin=dict(l=60, r=60, t=70, b=20)\n",
    "    )\n",
    "\n",
    "    # Build a compact table from the info dict\n",
    "    pairs = [f\"<b>{k}</b>  {v}\" for k, v in info.items()]\n",
    "\n",
    "    rows_needed = math.ceil(len(pairs) / columns)\n",
    "    table_rows = []\n",
    "    for r in range(rows_needed):\n",
    "        row_items = pairs[r*columns:(r+1)*columns]\n",
    "        # pad to full width for a tidy grid\n",
    "        row_items += [\"\"] * (columns - len(row_items))\n",
    "        table_rows.append(row_items)\n",
    "\n",
    "    # Transpose for go.Table (values is list-of-columns)\n",
    "    cols = list(map(list, zip(*table_rows)))\n",
    "\n",
    "    fig.add_trace(\n",
    "        go.Table(\n",
    "            header=dict(\n",
    "                values=[\"\"] * columns,\n",
    "                line=dict(width=0),\n",
    "                fill_color=\"rgba(0,0,0,0)\",\n",
    "                height=8\n",
    "            ),\n",
    "            cells=dict(\n",
    "                values=cols,\n",
    "                align=\"left\",\n",
    "                height=22,\n",
    "                line=dict(color=\"rgba(0,0,0,0.08)\", width=1),\n",
    "                fill_color=[[\"rgba(255,255,255,0.0)\"] * rows_needed]*columns\n",
    "            )\n",
    "        ),\n",
    "        row=2, col=1\n",
    "    )\n",
    "\n",
    "    # Optional: a faint border box feel for the strip via background rectangle\n",
    "    fig.update_layout(\n",
    "        annotations=list(fig.layout.annotations) + [\n",
    "            dict(\n",
    "                xref=\"paper\", yref=\"paper\",\n",
    "                x=0.0, y=0.0, xanchor=\"left\", yanchor=\"bottom\",\n",
    "                text=\"\", showarrow=False,\n",
    "                bgcolor=\"rgba(255,255,255,0.65)\",\n",
    "                bordercolor=\"rgba(0,0,0,0.15)\", borderwidth=1,\n",
    "                xshift=10, yshift=100\n",
    "            )\n",
    "        ]\n",
    "    )\n",
    "\n",
    "    return fig"
   ]
  },
  {
   "cell_type": "code",
   "execution_count": 303,
   "id": "34f65e1b",
   "metadata": {},
   "outputs": [],
   "source": [
    "def save_html(fig, aircraft_address):\n",
    "    \"\"\"\n",
    "    Export the plot to an interactive HTML file\n",
    "    \"\"\"\n",
    "    export_path = get_export_folder_path()\n",
    "    path = export_path / f\"flight_path_{aircraft_address}.html\"\n",
    "    fig.write_html(path, include_plotlyjs=\"cdn\")\n",
    "    return path"
   ]
  },
  {
   "cell_type": "code",
   "execution_count": 304,
   "id": "56e44e21",
   "metadata": {},
   "outputs": [
    {
     "data": {
      "application/vnd.plotly.v1+json": {
       "config": {
        "plotlyServerURL": "https://plot.ly"
       },
       "data": [
        {
         "colorbar": {
          "title": {
           "text": "Altitude (m)"
          },
          "x": 1.05,
          "xanchor": "left",
          "y": 0.5
         },
         "colorscale": [
          [
           0,
           "#0d0887"
          ],
          [
           0.1111111111111111,
           "#46039f"
          ],
          [
           0.2222222222222222,
           "#7201a8"
          ],
          [
           0.3333333333333333,
           "#9c179e"
          ],
          [
           0.4444444444444444,
           "#bd3786"
          ],
          [
           0.5555555555555556,
           "#d8576b"
          ],
          [
           0.6666666666666666,
           "#ed7953"
          ],
          [
           0.7777777777777778,
           "#fb9f3a"
          ],
          [
           0.8888888888888888,
           "#fdca26"
          ],
          [
           1,
           "#f0f921"
          ]
         ],
         "flatshading": true,
         "i": {
          "bdata": "AAAAAAIAAgAEAAQABgAGAAgACAAKAAoADAAMAA4ADgAQABAAEgASABQAFAAWABYAGAAYABoAGgAcABwAHgAeACAAIAAiACIAJAAkACYAJgAoACgAKgAqACwALAAuAC4AMAAwADIAMgA0ADQANgA2ADgAOAA6ADoAPAA8AD4APgBAAEAAQgBCAEQARABGAEYASABIAEoASgBMAEwATgBOAFAAUABSAFIAVABUAFYAVgBYAFgAWgBaAFwAXABeAF4AYABgAGIAYgBkAGQAZgBmAGgAaABqAGoAbABsAG4AbgBwAHAAcgByAHQAdAB2AHYAeAB4AHoAegB8AHwAfgB+AIAAgACCAIIAhACEAIYAhgCIAIgA",
          "dtype": "i2"
         },
         "intensity": {
          "bdata": "UrgehWuLt0AAAAAAAAAAAMP1KFyPdLdAAAAAAAAAAAA+Ctej8Gy3QAAAAAAAAAAAZ2ZmZmbrtkAAAAAAAAAAAOJ6FK7H47ZAAAAAAAAAAADiehSuRyW2QAAAAAAAAAAAXI/C9agdtkAAAAAAAAAAAD4K16Pw77VAAAAAAAAAAACuR+F6FNm1QAAAAAAAAAAAKVyPwnXRtUAAAAAAAAAAAKRwPQrXybVAAAAAAAAAAACamZmZmbq1QAAAAAAAAAAAFa5H4fqytUAAAAAAAAAAABWuR+H6srVAAAAAAAAAAACQwvUoXKu1QAAAAAAAAAAAC9ejcL2jtUAAAAAAAAAAAIXrUbgenLVAAAAAAAAAAAAAAAAAgJS1QAAAAAAAAAAAAAAAAICUtUAAAAAAAAAAAHsUrkfhjLVAAAAAAAAAAAD2KFyPQoW1QAAAAAAAAAAAcT0K16N9tUAAAAAAAAAAAHE9CtejfbVAAAAAAAAAAADsUbgeBXa1QAAAAAAAAAAAZ2ZmZmZutUAAAAAAAAAAAFyPwvUoX7VAAAAAAAAAAADXo3A9ile1QAAAAAAAAAAAzczMzExItUAAAAAAAAAAAD4K16NwMbVAAAAAAAAAAAC5HoXr0Sm1QAAAAAAAAAAAuR6F69EptUAAAAAAAAAAADMzMzMzIrVAAAAAAAAAAACkcD0KVwu1QAAAAAAAAAAAkML1KNzstEAAAAAAAAAAAAvXo3A95bRAAAAAAAAAAAAAAAAAANa0QAAAAAAAAAAA9ihcj8LGtEAAAAAAAAAAAHE9Ctcjv7RAAAAAAAAAAADsUbgehbe0QAAAAAAAAAAA4noUrkeotEAAAAAAAAAAAFyPwvWooLRAAAAAAAAAAADXo3A9Cpm0QAAAAAAAAAAASOF6FC6CtEAAAAAAAAAAAMP1KFyPerRAAAAAAAAAAAA+Ctej8HK0QAAAAAAAAAAAKVyPwnVUtEAAAAAAAAAAAAAAAACAF7RAAAAAAAAAAAB7FK5H4Q+0QAAAAAAAAAAAexSuR+EPtEAAAAAAAAAAAPYoXI9CCLRAAAAAAAAAAAD2KFyPQgi0QAAAAAAAAAAAcT0K16MAtEAAAAAAAAAAAClcj8L1lbNAAAAAAAAAAACkcD0KV46zQAAAAAAAAAAAH4XrUbiGs0AAAAAAAAAAAJqZmZkZf7NAAAAAAAAAAAAVrkfhenezQAAAAAAAAAAAkML1KNxvs0AAAAAAAAAAAAvXo3A9aLNAAAAAAAAAAADD9Shcj/2yQAAAAAAAAAAAPgrXo/D1skAAAAAAAAAAALkehetR7rJAAAAAAAAAAAAzMzMzs+ayQAAAAAAAAAAAKVyPwnXXskAAAAAAAAAAAClcj8J117JAAAAAAAAAAACkcD0K18+yQAAAAAAAAAAApHA9CtfPskAAAAAAAAAAAD4K16PweLFAAAAAAAAAAAAzMzMzs2mxQAAAAAAAAAAAH4XrUThLsUAAAAAAAAAAAA==",
          "dtype": "f8"
         },
         "j": {
          "bdata": "AQADAAMABQAFAAcABwAJAAkACwALAA0ADQAPAA8AEQARABMAEwAVABUAFwAXABkAGQAbABsAHQAdAB8AHwAhACEAIwAjACUAJQAnACcAKQApACsAKwAtAC0ALwAvADEAMQAzADMANQA1ADcANwA5ADkAOwA7AD0APQA/AD8AQQBBAEMAQwBFAEUARwBHAEkASQBLAEsATQBNAE8ATwBRAFEAUwBTAFUAVQBXAFcAWQBZAFsAWwBdAF0AXwBfAGEAYQBjAGMAZQBlAGcAZwBpAGkAawBrAG0AbQBvAG8AcQBxAHMAcwB1AHUAdwB3AHkAeQB7AHsAfQB9AH8AfwCBAIEAgwCDAIUAhQCHAIcAiQCJAIsA",
          "dtype": "i2"
         },
         "k": {
          "bdata": "AwACAAUABAAHAAYACQAIAAsACgANAAwADwAOABEAEAATABIAFQAUABcAFgAZABgAGwAaAB0AHAAfAB4AIQAgACMAIgAlACQAJwAmACkAKAArACoALQAsAC8ALgAxADAAMwAyADUANAA3ADYAOQA4ADsAOgA9ADwAPwA+AEEAQABDAEIARQBEAEcARgBJAEgASwBKAE0ATABPAE4AUQBQAFMAUgBVAFQAVwBWAFkAWABbAFoAXQBcAF8AXgBhAGAAYwBiAGUAZABnAGYAaQBoAGsAagBtAGwAbwBuAHEAcABzAHIAdQB0AHcAdgB5AHgAewB6AH0AfAB/AH4AgQCAAIMAggCFAIQAhwCGAIkAiACLAIoA",
          "dtype": "i2"
         },
         "lighting": {
          "ambient": 0.6,
          "diffuse": 0.8,
          "fresnel": 0.2,
          "roughness": 0.5,
          "specular": 0.3
         },
         "lightposition": {
          "x": 2000,
          "y": 0,
          "z": 8000
         },
         "name": "Ribbon",
         "opacity": 0.85,
         "scene": "scene",
         "showscale": true,
         "type": "mesh3d",
         "x": {
          "bdata": "AAAAAAAAAAAAAAAAAAAAAAAAAAAAAAAAAAAAAAAAAAAAAAAAAAAAAAAAAAAAAAAAAAAAAAAAAAAAAAAAAAAAAAAAAAAAAAAAAAAAAAAAAAAAAAAAAAAAAAAAAAAAAAAAAAAAAAAAAAAAAAAAAAAAAAAAAAAAAAAAAAAAAAAAAAAAAAAAAAAAAAAAAAAAAAAAAAAAAAAAAAAAAAAAAAAAAAAAAAAAAAAAAAAAAAAAAAAAAAAAAAAAAAAAAAAAAAAAAAAAAAAAAAAAAAAAAAAAABKKav8NAfHAEopq/w0B8cASimr/DQHxwBKKav8NAfHAEopq/w0B8cASimr/DQHxwBKKav8NAfHAEopq/w0B8cASimr/DQHxwBKKav8NAfHAc3K/W9Av8cBzcr9b0C/xwHNyv1vQL/HAc3K/W9Av8cBzcr9b0C/xwHNyv1vQL/HAc3K/W9Av8cBzcr9b0C/xwEWcR7mIUfHARZxHuYhR8cBFnEe5iFHxwEWcR7mIUfHARZxHuYhR8cBFnEe5iFHxwEWcR7mIUfHARZxHuYhR8cBFnEe5iFHxwEWcR7mIUfHARZxHuYhR8cBFnEe5iFHxwEWcR7mIUfHARZxHuYhR8cBFnEe5iFHxwEWcR7mIUfHAV7Hhet/O8cBXseF6387xwFex4XrfzvHAV7Hhet/O8cBXseF6387xwFex4XrfzvHAV7Hhet/O8cBXseF6387xwFex4XrfzvHAV7Hhet/O8cBXseF6387xwFex4XrfzvHAV7Hhet/O8cBXseF6387xwFex4XrfzvHAV7Hhet/O8cBXseF6387xwFex4XrfzvHAV7Hhet/O8cBXseF6387xwFex4XrfzvHAV7Hhet/O8cBXseF6387xwFex4XrfzvHAV7Hhet/O8cBXseF6387xwFex4XrfzvHAV7Hhet/O8cBXseF6387xwFex4XrfzvHAV7Hhet/O8cBXseF6387xwFex4XrfzvHAV7Hhet/O8cBXseF6387xwFex4XrfzvHAxZTffbwe88DFlN99vB7zwMWU3328HvPAxZTffbwe88A375QOnCrzwDfvlA6cKvPAN++UDpwq88A375QOnCrzwDfvlA6cKvPAN++UDpwq88A375QOnCrzwDfvlA6cKvPAcavX0AvY88Bxq9fQC9jzwHGr19AL2PPAcavX0AvY88Bxq9fQC9jzwHGr19AL2PPAcavX0AvY88Bxq9fQC9jzwHGr19AL2PPAcavX0AvY88Bxq9fQC9jzwHGr19AL2PPAcavX0AvY88Bxq9fQC9jzwHGr19AL2PPAcavX0AvY88Bxq9fQC9jzwHGr19AL2PPAcavX0AvY88Bxq9fQC9jzwIyQhloB1vTAjJCGWgHW9MCMkIZaAdb0wIyQhloB1vTAIpTYUsPf9MAilNhSw9/0wCKU2FLD3/TAIpTYUsPf9MAilNhSw9/0wCKU2FLD3/TAIpTYUsPf9MAilNhSw9/0wA==",
          "dtype": "f8"
         },
         "y": {
          "bdata": "AAAAAAAAAAAAAAAAAAAAAAAAAAAAAAAAAAAAAAAAAAAAAAAAAAAAAAAAAAAAAAAAAAAAAAAAAAAAAAAAAAAAAAAAAAAAAAAAAAAAAAAAAAAAAAAAAAAAAAAAAAAAAAAAAAAAAAAAAAAAAAAAAAAAAAAAAAAAAAAAAAAAAAAAAAAAAAAAAAAAAAAAAAAAAAAAAAAAAAAAAAAAAAAAAAAAAAAAAAAAAAAAAAAAAAAAAAAAAAAAAAAAAAAAAAAAAAAAAAAAAAAAAAAAAAAAAAAAAKWTjrQyB8TApZOOtDIHxMClk460MgfEwKWTjrQyB8TApZOOtDIHxMClk460MgfEwKWTjrQyB8TApZOOtDIHxMClk460MgfEwKWTjrQyB8TAcVb9mkjlw8BxVv2aSOXDwHFW/ZpI5cPAcVb9mkjlw8BxVv2aSOXDwHFW/ZpI5cPAcVb9mkjlw8BxVv2aSOXDwG3gjRUo0MPAbeCNFSjQw8Bt4I0VKNDDwG3gjRUo0MPAbeCNFSjQw8Bt4I0VKNDDwG3gjRUo0MPAbeCNFSjQw8Bt4I0VKNDDwG3gjRUo0MPAbeCNFSjQw8Bt4I0VKNDDwG3gjRUo0MPAbeCNFSjQw8Bt4I0VKNDDwG3gjRUo0MPAT40qVDR8w8BPjSpUNHzDwE+NKlQ0fMPAT40qVDR8w8BPjSpUNHzDwE+NKlQ0fMPAT40qVDR8w8BPjSpUNHzDwE+NKlQ0fMPAT40qVDR8w8BPjSpUNHzDwE+NKlQ0fMPAT40qVDR8w8BPjSpUNHzDwE+NKlQ0fMPAT40qVDR8w8BPjSpUNHzDwE+NKlQ0fMPAT40qVDR8w8BPjSpUNHzDwE+NKlQ0fMPAT40qVDR8w8BPjSpUNHzDwE+NKlQ0fMPAT40qVDR8w8BPjSpUNHzDwE+NKlQ0fMPAT40qVDR8w8BPjSpUNHzDwE+NKlQ0fMPAT40qVDR8w8BPjSpUNHzDwE+NKlQ0fMPAT40qVDR8w8BPjSpUNHzDwE+NKlQ0fMPABOhlzLWmwsAE6GXMtabCwAToZcy1psLABOhlzLWmwsAZu3Iv7Z7CwBm7ci/tnsLAGbtyL+2ewsAZu3Iv7Z7CwBm7ci/tnsLAGbtyL+2ewsAZu3Iv7Z7CwBm7ci/tnsLAESv91to/wsARK/3W2j/CwBEr/dbaP8LAESv91to/wsARK/3W2j/CwBEr/dbaP8LAESv91to/wsARK/3W2j/CwBEr/dbaP8LAESv91to/wsARK/3W2j/CwBEr/dbaP8LAESv91to/wsARK/3W2j/CwBEr/dbaP8LAESv91to/wsARK/3W2j/CwBEr/dbaP8LAESv91to/wsARK/3W2j/CwAD08DD3q8HAAPTwMPerwcAA9PAw96vBwAD08DD3q8HA7s2yPEulwcDuzbI8S6XBwO7NsjxLpcHA7s2yPEulwcDuzbI8S6XBwO7NsjxLpcHA7s2yPEulwcDuzbI8S6XBwA==",
          "dtype": "f8"
         },
         "z": {
          "bdata": "UrgehWuLt0AAAAAAAAAAAMP1KFyPdLdAAAAAAAAAAAA+Ctej8Gy3QAAAAAAAAAAAZ2ZmZmbrtkAAAAAAAAAAAOJ6FK7H47ZAAAAAAAAAAADiehSuRyW2QAAAAAAAAAAAXI/C9agdtkAAAAAAAAAAAD4K16Pw77VAAAAAAAAAAACuR+F6FNm1QAAAAAAAAAAAKVyPwnXRtUAAAAAAAAAAAKRwPQrXybVAAAAAAAAAAACamZmZmbq1QAAAAAAAAAAAFa5H4fqytUAAAAAAAAAAABWuR+H6srVAAAAAAAAAAACQwvUoXKu1QAAAAAAAAAAAC9ejcL2jtUAAAAAAAAAAAIXrUbgenLVAAAAAAAAAAAAAAAAAgJS1QAAAAAAAAAAAAAAAAICUtUAAAAAAAAAAAHsUrkfhjLVAAAAAAAAAAAD2KFyPQoW1QAAAAAAAAAAAcT0K16N9tUAAAAAAAAAAAHE9CtejfbVAAAAAAAAAAADsUbgeBXa1QAAAAAAAAAAAZ2ZmZmZutUAAAAAAAAAAAFyPwvUoX7VAAAAAAAAAAADXo3A9ile1QAAAAAAAAAAAzczMzExItUAAAAAAAAAAAD4K16NwMbVAAAAAAAAAAAC5HoXr0Sm1QAAAAAAAAAAAuR6F69EptUAAAAAAAAAAADMzMzMzIrVAAAAAAAAAAACkcD0KVwu1QAAAAAAAAAAAkML1KNzstEAAAAAAAAAAAAvXo3A95bRAAAAAAAAAAAAAAAAAANa0QAAAAAAAAAAA9ihcj8LGtEAAAAAAAAAAAHE9Ctcjv7RAAAAAAAAAAADsUbgehbe0QAAAAAAAAAAA4noUrkeotEAAAAAAAAAAAFyPwvWooLRAAAAAAAAAAADXo3A9Cpm0QAAAAAAAAAAASOF6FC6CtEAAAAAAAAAAAMP1KFyPerRAAAAAAAAAAAA+Ctej8HK0QAAAAAAAAAAAKVyPwnVUtEAAAAAAAAAAAAAAAACAF7RAAAAAAAAAAAB7FK5H4Q+0QAAAAAAAAAAAexSuR+EPtEAAAAAAAAAAAPYoXI9CCLRAAAAAAAAAAAD2KFyPQgi0QAAAAAAAAAAAcT0K16MAtEAAAAAAAAAAAClcj8L1lbNAAAAAAAAAAACkcD0KV46zQAAAAAAAAAAAH4XrUbiGs0AAAAAAAAAAAJqZmZkZf7NAAAAAAAAAAAAVrkfhenezQAAAAAAAAAAAkML1KNxvs0AAAAAAAAAAAAvXo3A9aLNAAAAAAAAAAADD9Shcj/2yQAAAAAAAAAAAPgrXo/D1skAAAAAAAAAAALkehetR7rJAAAAAAAAAAAAzMzMzs+ayQAAAAAAAAAAAKVyPwnXXskAAAAAAAAAAAClcj8J117JAAAAAAAAAAACkcD0K18+yQAAAAAAAAAAApHA9CtfPskAAAAAAAAAAAD4K16PweLFAAAAAAAAAAAAzMzMzs2mxQAAAAAAAAAAAH4XrUThLsUAAAAAAAAAAAA==",
          "dtype": "f8"
         }
        },
        {
         "line": {
          "width": 4
         },
         "mode": "lines",
         "name": "Flight path",
         "scene": "scene",
         "type": "scatter3d",
         "x": {
          "bdata": "AAAAAAAAAAAAAAAAAAAAAAAAAAAAAAAAAAAAAAAAAAAAAAAAAAAAAAAAAAAAAAAAAAAAAAAAAAAAAAAAAAAAAAAAAAAAAAAAAAAAAAAAAAAAAAAAAAAAAAAAAAAAAAAAAAAAAAAAAAASimr/DQHxwBKKav8NAfHAEopq/w0B8cASimr/DQHxwBKKav8NAfHAc3K/W9Av8cBzcr9b0C/xwHNyv1vQL/HAc3K/W9Av8cBFnEe5iFHxwEWcR7mIUfHARZxHuYhR8cBFnEe5iFHxwEWcR7mIUfHARZxHuYhR8cBFnEe5iFHxwEWcR7mIUfHAV7Hhet/O8cBXseF6387xwFex4XrfzvHAV7Hhet/O8cBXseF6387xwFex4XrfzvHAV7Hhet/O8cBXseF6387xwFex4XrfzvHAV7Hhet/O8cBXseF6387xwFex4XrfzvHAV7Hhet/O8cBXseF6387xwFex4XrfzvHAV7Hhet/O8cBXseF6387xwFex4XrfzvHAxZTffbwe88DFlN99vB7zwDfvlA6cKvPAN++UDpwq88A375QOnCrzwDfvlA6cKvPAcavX0AvY88Bxq9fQC9jzwHGr19AL2PPAcavX0AvY88Bxq9fQC9jzwHGr19AL2PPAcavX0AvY88Bxq9fQC9jzwHGr19AL2PPAcavX0AvY88CMkIZaAdb0wIyQhloB1vTAIpTYUsPf9MAilNhSw9/0wCKU2FLD3/TAIpTYUsPf9MA=",
          "dtype": "f8"
         },
         "y": {
          "bdata": "AAAAAAAAAAAAAAAAAAAAAAAAAAAAAAAAAAAAAAAAAAAAAAAAAAAAAAAAAAAAAAAAAAAAAAAAAAAAAAAAAAAAAAAAAAAAAAAAAAAAAAAAAAAAAAAAAAAAAAAAAAAAAAAAAAAAAAAAAAClk460MgfEwKWTjrQyB8TApZOOtDIHxMClk460MgfEwKWTjrQyB8TAcVb9mkjlw8BxVv2aSOXDwHFW/ZpI5cPAcVb9mkjlw8Bt4I0VKNDDwG3gjRUo0MPAbeCNFSjQw8Bt4I0VKNDDwG3gjRUo0MPAbeCNFSjQw8Bt4I0VKNDDwG3gjRUo0MPAT40qVDR8w8BPjSpUNHzDwE+NKlQ0fMPAT40qVDR8w8BPjSpUNHzDwE+NKlQ0fMPAT40qVDR8w8BPjSpUNHzDwE+NKlQ0fMPAT40qVDR8w8BPjSpUNHzDwE+NKlQ0fMPAT40qVDR8w8BPjSpUNHzDwE+NKlQ0fMPAT40qVDR8w8BPjSpUNHzDwE+NKlQ0fMPABOhlzLWmwsAE6GXMtabCwBm7ci/tnsLAGbtyL+2ewsAZu3Iv7Z7CwBm7ci/tnsLAESv91to/wsARK/3W2j/CwBEr/dbaP8LAESv91to/wsARK/3W2j/CwBEr/dbaP8LAESv91to/wsARK/3W2j/CwBEr/dbaP8LAESv91to/wsAA9PAw96vBwAD08DD3q8HA7s2yPEulwcDuzbI8S6XBwO7NsjxLpcHA7s2yPEulwcA=",
          "dtype": "f8"
         },
         "z": {
          "bdata": "UrgehWuLt0DD9Shcj3S3QD4K16PwbLdAZ2ZmZmbrtkDiehSux+O2QOJ6FK5HJbZAXI/C9agdtkA+Ctej8O+1QK5H4XoU2bVAKVyPwnXRtUCkcD0K18m1QJqZmZmZurVAFa5H4fqytUAVrkfh+rK1QJDC9Shcq7VAC9ejcL2jtUCF61G4Hpy1QAAAAACAlLVAAAAAAICUtUB7FK5H4Yy1QPYoXI9ChbVAcT0K16N9tUBxPQrXo321QOxRuB4FdrVAZ2ZmZmZutUBcj8L1KF+1QNejcD2KV7VAzczMzExItUA+CtejcDG1QLkehevRKbVAuR6F69EptUAzMzMzMyK1QKRwPQpXC7VAkML1KNzstEAL16NwPeW0QAAAAAAA1rRA9ihcj8LGtEBxPQrXI7+0QOxRuB6Ft7RA4noUrkeotEBcj8L1qKC0QNejcD0KmbRASOF6FC6CtEDD9Shcj3q0QD4K16PwcrRAKVyPwnVUtEAAAAAAgBe0QHsUrkfhD7RAexSuR+EPtED2KFyPQgi0QPYoXI9CCLRAcT0K16MAtEApXI/C9ZWzQKRwPQpXjrNAH4XrUbiGs0CamZmZGX+zQBWuR+F6d7NAkML1KNxvs0AL16NwPWizQMP1KFyP/bJAPgrXo/D1skC5HoXrUe6yQDMzMzOz5rJAKVyPwnXXskApXI/CddeyQKRwPQrXz7JApHA9CtfPskA+Ctej8HixQDMzMzOzabFAH4XrUThLsUA=",
          "dtype": "f8"
         }
        },
        {
         "line": {
          "dash": "dash",
          "width": 2
         },
         "mode": "lines",
         "name": "Ground trace",
         "scene": "scene",
         "type": "scatter3d",
         "x": {
          "bdata": "AAAAAAAAAAAAAAAAAAAAAAAAAAAAAAAAAAAAAAAAAAAAAAAAAAAAAAAAAAAAAAAAAAAAAAAAAAAAAAAAAAAAAAAAAAAAAAAAAAAAAAAAAAAAAAAAAAAAAAAAAAAAAAAAAAAAAAAAAAASimr/DQHxwBKKav8NAfHAEopq/w0B8cASimr/DQHxwBKKav8NAfHAc3K/W9Av8cBzcr9b0C/xwHNyv1vQL/HAc3K/W9Av8cBFnEe5iFHxwEWcR7mIUfHARZxHuYhR8cBFnEe5iFHxwEWcR7mIUfHARZxHuYhR8cBFnEe5iFHxwEWcR7mIUfHAV7Hhet/O8cBXseF6387xwFex4XrfzvHAV7Hhet/O8cBXseF6387xwFex4XrfzvHAV7Hhet/O8cBXseF6387xwFex4XrfzvHAV7Hhet/O8cBXseF6387xwFex4XrfzvHAV7Hhet/O8cBXseF6387xwFex4XrfzvHAV7Hhet/O8cBXseF6387xwFex4XrfzvHAxZTffbwe88DFlN99vB7zwDfvlA6cKvPAN++UDpwq88A375QOnCrzwDfvlA6cKvPAcavX0AvY88Bxq9fQC9jzwHGr19AL2PPAcavX0AvY88Bxq9fQC9jzwHGr19AL2PPAcavX0AvY88Bxq9fQC9jzwHGr19AL2PPAcavX0AvY88CMkIZaAdb0wIyQhloB1vTAIpTYUsPf9MAilNhSw9/0wCKU2FLD3/TAIpTYUsPf9MA=",
          "dtype": "f8"
         },
         "y": {
          "bdata": "AAAAAAAAAAAAAAAAAAAAAAAAAAAAAAAAAAAAAAAAAAAAAAAAAAAAAAAAAAAAAAAAAAAAAAAAAAAAAAAAAAAAAAAAAAAAAAAAAAAAAAAAAAAAAAAAAAAAAAAAAAAAAAAAAAAAAAAAAAClk460MgfEwKWTjrQyB8TApZOOtDIHxMClk460MgfEwKWTjrQyB8TAcVb9mkjlw8BxVv2aSOXDwHFW/ZpI5cPAcVb9mkjlw8Bt4I0VKNDDwG3gjRUo0MPAbeCNFSjQw8Bt4I0VKNDDwG3gjRUo0MPAbeCNFSjQw8Bt4I0VKNDDwG3gjRUo0MPAT40qVDR8w8BPjSpUNHzDwE+NKlQ0fMPAT40qVDR8w8BPjSpUNHzDwE+NKlQ0fMPAT40qVDR8w8BPjSpUNHzDwE+NKlQ0fMPAT40qVDR8w8BPjSpUNHzDwE+NKlQ0fMPAT40qVDR8w8BPjSpUNHzDwE+NKlQ0fMPAT40qVDR8w8BPjSpUNHzDwE+NKlQ0fMPABOhlzLWmwsAE6GXMtabCwBm7ci/tnsLAGbtyL+2ewsAZu3Iv7Z7CwBm7ci/tnsLAESv91to/wsARK/3W2j/CwBEr/dbaP8LAESv91to/wsARK/3W2j/CwBEr/dbaP8LAESv91to/wsARK/3W2j/CwBEr/dbaP8LAESv91to/wsAA9PAw96vBwAD08DD3q8HA7s2yPEulwcDuzbI8S6XBwO7NsjxLpcHA7s2yPEulwcA=",
          "dtype": "f8"
         },
         "z": {
          "bdata": "AAAAAAAAAAAAAAAAAAAAAAAAAAAAAAAAAAAAAAAAAAAAAAAAAAAAAAAAAAAAAAAAAAAAAAAAAAAAAAAAAAAAAAAAAAAAAAAAAAAAAAAAAAAAAAAAAAAAAAAAAAAAAAAAAAAAAAAAAAAAAAAAAAAAAAAAAAAAAAAAAAAAAAAAAAAAAAAAAAAAAAAAAAAAAAAAAAAAAAAAAAAAAAAAAAAAAAAAAAAAAAAAAAAAAAAAAAAAAAAAAAAAAAAAAAAAAAAAAAAAAAAAAAAAAAAAAAAAAAAAAAAAAAAAAAAAAAAAAAAAAAAAAAAAAAAAAAAAAAAAAAAAAAAAAAAAAAAAAAAAAAAAAAAAAAAAAAAAAAAAAAAAAAAAAAAAAAAAAAAAAAAAAAAAAAAAAAAAAAAAAAAAAAAAAAAAAAAAAAAAAAAAAAAAAAAAAAAAAAAAAAAAAAAAAAAAAAAAAAAAAAAAAAAAAAAAAAAAAAAAAAAAAAAAAAAAAAAAAAAAAAAAAAAAAAAAAAAAAAAAAAAAAAAAAAAAAAAAAAAAAAAAAAAAAAAAAAAAAAAAAAAAAAAAAAAAAAAAAAAAAAAAAAAAAAAAAAAAAAAAAAAAAAAAAAAAAAAAAAAAAAAAAAAAAAAAAAAAAAAAAAAAAAAAAAAAAAAAAAAAAAAAAAAAAAAAAAAAAAAAAAAAAAAAAAAAAAAAAAAAAAAAAAAAAAAAAAAAAAAAAAAAAAAAAAAAAAAAAAAAAAAAAAA=",
          "dtype": "f8"
         }
        },
        {
         "cells": {
          "align": "left",
          "fill": {
           "color": [
            [
             "rgba(255,255,255,0.0)",
             "rgba(255,255,255,0.0)",
             "rgba(255,255,255,0.0)"
            ],
            [
             "rgba(255,255,255,0.0)",
             "rgba(255,255,255,0.0)",
             "rgba(255,255,255,0.0)"
            ],
            [
             "rgba(255,255,255,0.0)",
             "rgba(255,255,255,0.0)",
             "rgba(255,255,255,0.0)"
            ]
           ]
          },
          "height": 22,
          "line": {
           "color": "rgba(0,0,0,0.08)",
           "width": 1
          },
          "values": [
           [
            "<b>Callsign</b>  EJU7076",
            "<b>Flight</b>  U27076",
            "<b>Start</b>  2025-10-15 19:40:15"
           ],
           [
            "<b>Registration</b>  OE-LQR",
            "<b>Airline</b>  Easyjet Europe",
            "<b>End</b>  2025-10-15 19:43:05"
           ],
           [
            "<b>Model</b>  Airbus A319 (sharklets)",
            "<b>Route</b>  AMS - BRS",
            ""
           ]
          ]
         },
         "domain": {
          "x": [
           0,
           1
          ],
          "y": [
           0,
           0.1692
          ]
         },
         "header": {
          "fill": {
           "color": "rgba(0,0,0,0)"
          },
          "height": 8,
          "line": {
           "width": 0
          },
          "values": [
           "",
           "",
           ""
          ]
         },
         "type": "table"
        }
       ],
       "layout": {
        "annotations": [
         {
          "bgcolor": "rgba(255,255,255,0.65)",
          "bordercolor": "rgba(0,0,0,0.15)",
          "borderwidth": 1,
          "showarrow": false,
          "text": "",
          "x": 0,
          "xanchor": "left",
          "xref": "paper",
          "xshift": 10,
          "y": 0,
          "yanchor": "bottom",
          "yref": "paper",
          "yshift": 100
         }
        ],
        "coloraxis": {},
        "height": 820,
        "legend": {
         "bgcolor": "rgba(255,255,255,0.7)",
         "bordercolor": "rgba(0,0,0,0.2)",
         "borderwidth": 1,
         "x": 0.02,
         "y": 0.98
        },
        "margin": {
         "b": 20,
         "l": 60,
         "r": 60,
         "t": 70
        },
        "scene": {
         "domain": {
          "x": [
           0,
           1
          ],
          "y": [
           0.2292,
           0.9999999999999999
          ]
         },
         "zaxis": {
          "autorange": false,
          "range": [
           4177.22,
           6277.42
          ]
         }
        },
        "template": {
         "data": {
          "bar": [
           {
            "error_x": {
             "color": "#2a3f5f"
            },
            "error_y": {
             "color": "#2a3f5f"
            },
            "marker": {
             "line": {
              "color": "#E5ECF6",
              "width": 0.5
             },
             "pattern": {
              "fillmode": "overlay",
              "size": 10,
              "solidity": 0.2
             }
            },
            "type": "bar"
           }
          ],
          "barpolar": [
           {
            "marker": {
             "line": {
              "color": "#E5ECF6",
              "width": 0.5
             },
             "pattern": {
              "fillmode": "overlay",
              "size": 10,
              "solidity": 0.2
             }
            },
            "type": "barpolar"
           }
          ],
          "carpet": [
           {
            "aaxis": {
             "endlinecolor": "#2a3f5f",
             "gridcolor": "white",
             "linecolor": "white",
             "minorgridcolor": "white",
             "startlinecolor": "#2a3f5f"
            },
            "baxis": {
             "endlinecolor": "#2a3f5f",
             "gridcolor": "white",
             "linecolor": "white",
             "minorgridcolor": "white",
             "startlinecolor": "#2a3f5f"
            },
            "type": "carpet"
           }
          ],
          "choropleth": [
           {
            "colorbar": {
             "outlinewidth": 0,
             "ticks": ""
            },
            "type": "choropleth"
           }
          ],
          "contour": [
           {
            "colorbar": {
             "outlinewidth": 0,
             "ticks": ""
            },
            "colorscale": [
             [
              0,
              "#0d0887"
             ],
             [
              0.1111111111111111,
              "#46039f"
             ],
             [
              0.2222222222222222,
              "#7201a8"
             ],
             [
              0.3333333333333333,
              "#9c179e"
             ],
             [
              0.4444444444444444,
              "#bd3786"
             ],
             [
              0.5555555555555556,
              "#d8576b"
             ],
             [
              0.6666666666666666,
              "#ed7953"
             ],
             [
              0.7777777777777778,
              "#fb9f3a"
             ],
             [
              0.8888888888888888,
              "#fdca26"
             ],
             [
              1,
              "#f0f921"
             ]
            ],
            "type": "contour"
           }
          ],
          "contourcarpet": [
           {
            "colorbar": {
             "outlinewidth": 0,
             "ticks": ""
            },
            "type": "contourcarpet"
           }
          ],
          "heatmap": [
           {
            "colorbar": {
             "outlinewidth": 0,
             "ticks": ""
            },
            "colorscale": [
             [
              0,
              "#0d0887"
             ],
             [
              0.1111111111111111,
              "#46039f"
             ],
             [
              0.2222222222222222,
              "#7201a8"
             ],
             [
              0.3333333333333333,
              "#9c179e"
             ],
             [
              0.4444444444444444,
              "#bd3786"
             ],
             [
              0.5555555555555556,
              "#d8576b"
             ],
             [
              0.6666666666666666,
              "#ed7953"
             ],
             [
              0.7777777777777778,
              "#fb9f3a"
             ],
             [
              0.8888888888888888,
              "#fdca26"
             ],
             [
              1,
              "#f0f921"
             ]
            ],
            "type": "heatmap"
           }
          ],
          "histogram": [
           {
            "marker": {
             "pattern": {
              "fillmode": "overlay",
              "size": 10,
              "solidity": 0.2
             }
            },
            "type": "histogram"
           }
          ],
          "histogram2d": [
           {
            "colorbar": {
             "outlinewidth": 0,
             "ticks": ""
            },
            "colorscale": [
             [
              0,
              "#0d0887"
             ],
             [
              0.1111111111111111,
              "#46039f"
             ],
             [
              0.2222222222222222,
              "#7201a8"
             ],
             [
              0.3333333333333333,
              "#9c179e"
             ],
             [
              0.4444444444444444,
              "#bd3786"
             ],
             [
              0.5555555555555556,
              "#d8576b"
             ],
             [
              0.6666666666666666,
              "#ed7953"
             ],
             [
              0.7777777777777778,
              "#fb9f3a"
             ],
             [
              0.8888888888888888,
              "#fdca26"
             ],
             [
              1,
              "#f0f921"
             ]
            ],
            "type": "histogram2d"
           }
          ],
          "histogram2dcontour": [
           {
            "colorbar": {
             "outlinewidth": 0,
             "ticks": ""
            },
            "colorscale": [
             [
              0,
              "#0d0887"
             ],
             [
              0.1111111111111111,
              "#46039f"
             ],
             [
              0.2222222222222222,
              "#7201a8"
             ],
             [
              0.3333333333333333,
              "#9c179e"
             ],
             [
              0.4444444444444444,
              "#bd3786"
             ],
             [
              0.5555555555555556,
              "#d8576b"
             ],
             [
              0.6666666666666666,
              "#ed7953"
             ],
             [
              0.7777777777777778,
              "#fb9f3a"
             ],
             [
              0.8888888888888888,
              "#fdca26"
             ],
             [
              1,
              "#f0f921"
             ]
            ],
            "type": "histogram2dcontour"
           }
          ],
          "mesh3d": [
           {
            "colorbar": {
             "outlinewidth": 0,
             "ticks": ""
            },
            "type": "mesh3d"
           }
          ],
          "parcoords": [
           {
            "line": {
             "colorbar": {
              "outlinewidth": 0,
              "ticks": ""
             }
            },
            "type": "parcoords"
           }
          ],
          "pie": [
           {
            "automargin": true,
            "type": "pie"
           }
          ],
          "scatter": [
           {
            "fillpattern": {
             "fillmode": "overlay",
             "size": 10,
             "solidity": 0.2
            },
            "type": "scatter"
           }
          ],
          "scatter3d": [
           {
            "line": {
             "colorbar": {
              "outlinewidth": 0,
              "ticks": ""
             }
            },
            "marker": {
             "colorbar": {
              "outlinewidth": 0,
              "ticks": ""
             }
            },
            "type": "scatter3d"
           }
          ],
          "scattercarpet": [
           {
            "marker": {
             "colorbar": {
              "outlinewidth": 0,
              "ticks": ""
             }
            },
            "type": "scattercarpet"
           }
          ],
          "scattergeo": [
           {
            "marker": {
             "colorbar": {
              "outlinewidth": 0,
              "ticks": ""
             }
            },
            "type": "scattergeo"
           }
          ],
          "scattergl": [
           {
            "marker": {
             "colorbar": {
              "outlinewidth": 0,
              "ticks": ""
             }
            },
            "type": "scattergl"
           }
          ],
          "scattermap": [
           {
            "marker": {
             "colorbar": {
              "outlinewidth": 0,
              "ticks": ""
             }
            },
            "type": "scattermap"
           }
          ],
          "scattermapbox": [
           {
            "marker": {
             "colorbar": {
              "outlinewidth": 0,
              "ticks": ""
             }
            },
            "type": "scattermapbox"
           }
          ],
          "scatterpolar": [
           {
            "marker": {
             "colorbar": {
              "outlinewidth": 0,
              "ticks": ""
             }
            },
            "type": "scatterpolar"
           }
          ],
          "scatterpolargl": [
           {
            "marker": {
             "colorbar": {
              "outlinewidth": 0,
              "ticks": ""
             }
            },
            "type": "scatterpolargl"
           }
          ],
          "scatterternary": [
           {
            "marker": {
             "colorbar": {
              "outlinewidth": 0,
              "ticks": ""
             }
            },
            "type": "scatterternary"
           }
          ],
          "surface": [
           {
            "colorbar": {
             "outlinewidth": 0,
             "ticks": ""
            },
            "colorscale": [
             [
              0,
              "#0d0887"
             ],
             [
              0.1111111111111111,
              "#46039f"
             ],
             [
              0.2222222222222222,
              "#7201a8"
             ],
             [
              0.3333333333333333,
              "#9c179e"
             ],
             [
              0.4444444444444444,
              "#bd3786"
             ],
             [
              0.5555555555555556,
              "#d8576b"
             ],
             [
              0.6666666666666666,
              "#ed7953"
             ],
             [
              0.7777777777777778,
              "#fb9f3a"
             ],
             [
              0.8888888888888888,
              "#fdca26"
             ],
             [
              1,
              "#f0f921"
             ]
            ],
            "type": "surface"
           }
          ],
          "table": [
           {
            "cells": {
             "fill": {
              "color": "#EBF0F8"
             },
             "line": {
              "color": "white"
             }
            },
            "header": {
             "fill": {
              "color": "#C8D4E3"
             },
             "line": {
              "color": "white"
             }
            },
            "type": "table"
           }
          ]
         },
         "layout": {
          "annotationdefaults": {
           "arrowcolor": "#2a3f5f",
           "arrowhead": 0,
           "arrowwidth": 1
          },
          "autotypenumbers": "strict",
          "coloraxis": {
           "colorbar": {
            "outlinewidth": 0,
            "ticks": ""
           }
          },
          "colorscale": {
           "diverging": [
            [
             0,
             "#8e0152"
            ],
            [
             0.1,
             "#c51b7d"
            ],
            [
             0.2,
             "#de77ae"
            ],
            [
             0.3,
             "#f1b6da"
            ],
            [
             0.4,
             "#fde0ef"
            ],
            [
             0.5,
             "#f7f7f7"
            ],
            [
             0.6,
             "#e6f5d0"
            ],
            [
             0.7,
             "#b8e186"
            ],
            [
             0.8,
             "#7fbc41"
            ],
            [
             0.9,
             "#4d9221"
            ],
            [
             1,
             "#276419"
            ]
           ],
           "sequential": [
            [
             0,
             "#0d0887"
            ],
            [
             0.1111111111111111,
             "#46039f"
            ],
            [
             0.2222222222222222,
             "#7201a8"
            ],
            [
             0.3333333333333333,
             "#9c179e"
            ],
            [
             0.4444444444444444,
             "#bd3786"
            ],
            [
             0.5555555555555556,
             "#d8576b"
            ],
            [
             0.6666666666666666,
             "#ed7953"
            ],
            [
             0.7777777777777778,
             "#fb9f3a"
            ],
            [
             0.8888888888888888,
             "#fdca26"
            ],
            [
             1,
             "#f0f921"
            ]
           ],
           "sequentialminus": [
            [
             0,
             "#0d0887"
            ],
            [
             0.1111111111111111,
             "#46039f"
            ],
            [
             0.2222222222222222,
             "#7201a8"
            ],
            [
             0.3333333333333333,
             "#9c179e"
            ],
            [
             0.4444444444444444,
             "#bd3786"
            ],
            [
             0.5555555555555556,
             "#d8576b"
            ],
            [
             0.6666666666666666,
             "#ed7953"
            ],
            [
             0.7777777777777778,
             "#fb9f3a"
            ],
            [
             0.8888888888888888,
             "#fdca26"
            ],
            [
             1,
             "#f0f921"
            ]
           ]
          },
          "colorway": [
           "#636efa",
           "#EF553B",
           "#00cc96",
           "#ab63fa",
           "#FFA15A",
           "#19d3f3",
           "#FF6692",
           "#B6E880",
           "#FF97FF",
           "#FECB52"
          ],
          "font": {
           "color": "#2a3f5f"
          },
          "geo": {
           "bgcolor": "white",
           "lakecolor": "white",
           "landcolor": "#E5ECF6",
           "showlakes": true,
           "showland": true,
           "subunitcolor": "white"
          },
          "hoverlabel": {
           "align": "left"
          },
          "hovermode": "closest",
          "mapbox": {
           "style": "light"
          },
          "paper_bgcolor": "white",
          "plot_bgcolor": "#E5ECF6",
          "polar": {
           "angularaxis": {
            "gridcolor": "white",
            "linecolor": "white",
            "ticks": ""
           },
           "bgcolor": "#E5ECF6",
           "radialaxis": {
            "gridcolor": "white",
            "linecolor": "white",
            "ticks": ""
           }
          },
          "scene": {
           "xaxis": {
            "backgroundcolor": "#E5ECF6",
            "gridcolor": "white",
            "gridwidth": 2,
            "linecolor": "white",
            "showbackground": true,
            "ticks": "",
            "zerolinecolor": "white"
           },
           "yaxis": {
            "backgroundcolor": "#E5ECF6",
            "gridcolor": "white",
            "gridwidth": 2,
            "linecolor": "white",
            "showbackground": true,
            "ticks": "",
            "zerolinecolor": "white"
           },
           "zaxis": {
            "backgroundcolor": "#E5ECF6",
            "gridcolor": "white",
            "gridwidth": 2,
            "linecolor": "white",
            "showbackground": true,
            "ticks": "",
            "zerolinecolor": "white"
           }
          },
          "shapedefaults": {
           "line": {
            "color": "#2a3f5f"
           }
          },
          "ternary": {
           "aaxis": {
            "gridcolor": "white",
            "linecolor": "white",
            "ticks": ""
           },
           "baxis": {
            "gridcolor": "white",
            "linecolor": "white",
            "ticks": ""
           },
           "bgcolor": "#E5ECF6",
           "caxis": {
            "gridcolor": "white",
            "linecolor": "white",
            "ticks": ""
           }
          },
          "title": {
           "x": 0.05
          },
          "xaxis": {
           "automargin": true,
           "gridcolor": "white",
           "linecolor": "white",
           "ticks": "",
           "title": {
            "standoff": 15
           },
           "zerolinecolor": "white",
           "zerolinewidth": 2
          },
          "yaxis": {
           "automargin": true,
           "gridcolor": "white",
           "linecolor": "white",
           "ticks": "",
           "title": {
            "standoff": 15
           },
           "zerolinecolor": "white",
           "zerolinewidth": 2
          }
         }
        },
        "title": {
         "font": {
          "size": 18
         },
         "text": "Flight Path for Aircraft 44034B",
         "x": 0.5,
         "xanchor": "center",
         "yanchor": "top"
        }
       }
      }
     },
     "metadata": {},
     "output_type": "display_data"
    }
   ],
   "source": [
    "# Load the flight path data and calculate the altitude limits\n",
    "df = load_flight_path(aircraft_address, start_timestamp, end_timestamp)\n",
    "zmin, zmax = calculate_z_range(df)\n",
    "\n",
    "# Get the data for the info panel\n",
    "information = {\n",
    "    \"Callsign\": df[\"Callsign\"].iloc[0],\n",
    "    \"Registration\": df[\"Registration\"].iloc[0],\n",
    "    \"Model\":  df[\"Model\"].iloc[0],\n",
    "    \"Flight\": df[\"FlightIATA\"].iloc[0],\n",
    "    \"Airline\": df[\"AirlineName\"].iloc[0],\n",
    "    \"Route\": df[\"Route\"].iloc[0],\n",
    "    \"Start\": df[\"Timestamp\"].min().strftime(\"%Y-%m-%d %H:%M:%S\"),\n",
    "    \"End\": df[\"Timestamp\"].max().strftime(\"%Y-%m-%d %H:%M:%S\")\n",
    "}\n",
    "\n",
    "# add_info_panel(fig, **info_kwargs)\n",
    "callsign = df[\"Callsign\"].iloc[0]\n",
    "flight_number = df[\"FlightIATA\"].iloc[0]\n",
    "\n",
    "# Construct the title\n",
    "title = f\"Flight Path for Aircraft {aircraft_address}\"\n",
    "\n",
    "# Segment to avoid long straight connectors across time gaps\n",
    "segments = segment_on_gaps(df)\n",
    "\n",
    "# Create a plot and set the title and legend properties\n",
    "fig = go.Figure()\n",
    "fig.update_layout(\n",
    "    title=dict(\n",
    "        text=title,\n",
    "        x=0.5,                  # horizontal centre\n",
    "        xanchor='center',       # anchor the title to the centre position\n",
    "        yanchor='top',          # keep it above the chart\n",
    "        font=dict(size=18)      # optional: make it a bit larger\n",
    "    ),\n",
    "    legend=LEGEND\n",
    ")\n",
    "\n",
    "# Build a single figure and add each segment as its own ribbon\n",
    "for idx, seg in enumerate(segments, 1):\n",
    "    if len(seg) > 2: \n",
    "        title = f\"{seg[\"Callsign\"].iloc[0] or aircraft_address} — segment {idx}\"\n",
    "        f = plot_flight_ribbon(seg.rename(columns={\"Timestamp\": \"time\"}), zmin, zmax)\n",
    "\n",
    "        # Merge traces from f into fig\n",
    "        for tr in f.data:\n",
    "            fig.add_trace(tr)\n",
    "\n",
    "# Set Z-scaling and show the plot\n",
    "fig.update_scenes(zaxis_autorange=False, zaxis_range=[float(zmin), float(zmax)])\n",
    "\n",
    "# Attach the info strip\n",
    "final_fig = attach_info_strip(fig, information, columns=3)\n",
    "\n",
    "# Save to interactive HTML\n",
    "save_html(final_fig, aircraft_address)\n",
    "\n",
    "# Show the figure\n",
    "final_fig.show()"
   ]
  }
 ],
 "metadata": {
  "kernelspec": {
   "display_name": "venv",
   "language": "python",
   "name": "python3"
  },
  "language_info": {
   "codemirror_mode": {
    "name": "ipython",
    "version": 3
   },
   "file_extension": ".py",
   "mimetype": "text/x-python",
   "name": "python",
   "nbconvert_exporter": "python",
   "pygments_lexer": "ipython3",
   "version": "3.13.6"
  }
 },
 "nbformat": 4,
 "nbformat_minor": 5
}
