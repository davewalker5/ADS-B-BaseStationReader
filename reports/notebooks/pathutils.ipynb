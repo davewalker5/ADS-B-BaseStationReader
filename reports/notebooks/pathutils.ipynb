{
 "cells": [
  {
   "cell_type": "code",
   "execution_count": null,
   "id": "511255e5",
   "metadata": {},
   "outputs": [],
   "source": [
    "import os\n",
    "import re\n",
    "import json\n",
    "import urllib.request\n",
    "import ipykernel\n",
    "\n",
    "# Try importing for both Notebook 6.x and Jupyter Server 2.x+\n",
    "try:\n",
    "    from notebook import notebookapp as serverapp\n",
    "except ImportError:\n",
    "    from jupyter_server import serverapp\n",
    "\n",
    "def get_notebook_dir():\n",
    "    # Try to read the connection file name; may be absent or oddly named\n",
    "    try:\n",
    "        cf = os.path.basename(ipykernel.get_connection_file())\n",
    "    except Exception:\n",
    "        cf = \"\"\n",
    "\n",
    "    # Extract kernel id if it matches the usual pattern; otherwise None\n",
    "    m = re.match(r\"^kernel-(.+)\\.json$\", cf)\n",
    "    kid = m.group(1) if m else None\n",
    "\n",
    "    # Query any running servers for a matching session\n",
    "    for s in serverapp.list_running_servers():\n",
    "        api = s.get(\"url\", \"\") + \"api/sessions\"\n",
    "        try:\n",
    "            with urllib.request.urlopen(api) as resp:\n",
    "                sessions = json.load(resp)\n",
    "            for sess in sessions:\n",
    "                sess_kid = (sess.get(\"kernel\") or {}).get(\"id\")\n",
    "                # If we couldn't parse our kernel id, accept the first session\n",
    "                if kid is None or sess_kid == kid:\n",
    "                    # notebook 6 uses 'notebook_dir'; jupyter_server uses 'root_dir'\n",
    "                    root = s.get(\"notebook_dir\") or s.get(\"root_dir\") or \"\"\n",
    "                    # session key can be 'notebook':{'path':...} or sometimes 'file':{'path':...}\n",
    "                    nb_path = (sess.get(\"notebook\") or {}).get(\"path\") or (sess.get(\"file\") or {}).get(\"path\")\n",
    "                    if root and nb_path:\n",
    "                        return os.path.dirname(os.path.join(root, nb_path))\n",
    "        except Exception:\n",
    "            # Ignore servers we can't reach / auth issues, keep trying others\n",
    "            pass\n",
    "\n",
    "    # Fallback — in headless runs (papermill) this is often what you want\n",
    "    return os.getcwd()"
   ]
  },
  {
   "cell_type": "code",
   "execution_count": null,
   "id": "d0064011",
   "metadata": {},
   "outputs": [],
   "source": [
    "from pathlib import Path\n",
    "import os\n",
    "\n",
    "TRUNCATE_AFTER = \"ADS-B-BaseStationReader\"\n",
    "\n",
    "def get_project_root_folder():\n",
    "    # If we're running from the command line, the project root path will be set\n",
    "    path = os.environ[\"PROJECT_ROOT\"] if \"PROJECT_ROOT\" in os.environ else None\n",
    "    if path and os.path.exists(path):\n",
    "        return path\n",
    "\n",
    "    # Get the notebook folder and create a Path object from it\n",
    "    notebook_folder = get_notebook_dir()\n",
    "    path = Path(notebook_folder)\n",
    "\n",
    "    # Find the part up to and including the final element after which we truncate\n",
    "    for parent in path.parents:\n",
    "        if parent.name == TRUNCATE_AFTER:\n",
    "            return parent\n",
    "\n",
    "    # Fallback - just return CWD\n",
    "    return os.getcwd()\n",
    "\n"
   ]
  },
  {
   "cell_type": "code",
   "execution_count": null,
   "id": "70cdaba6",
   "metadata": {},
   "outputs": [],
   "source": [
    "from pathlib import Path\n",
    "\n",
    "def get_data_folder_path():\n",
    "    # Construct the path to the export folder and create it\n",
    "    project_root = get_project_root_folder()\n",
    "    data_folder_path = Path(f\"{project_root}/data\")\n",
    "    data_folder_path.mkdir(parents=True, exist_ok=True)\n",
    "\n",
    "    # Return the path to the folder\n",
    "    return data_folder_path.absolute()"
   ]
  },
  {
   "cell_type": "code",
   "execution_count": null,
   "id": "0cb361a5",
   "metadata": {},
   "outputs": [],
   "source": [
    "from pathlib import Path\n",
    "\n",
    "def get_export_folder_path():\n",
    "    # Construct the path to the export folder and create it\n",
    "    project_root = get_project_root_folder()\n",
    "    export_folder_path = Path(f\"{project_root}/data/reports\")\n",
    "    export_folder_path.mkdir(parents=True, exist_ok=True)\n",
    "\n",
    "    # Return the path to the folder\n",
    "    return export_folder_path.absolute()"
   ]
  },
  {
   "cell_type": "code",
   "execution_count": null,
   "id": "72dc1ad3",
   "metadata": {},
   "outputs": [],
   "source": [
    "import re\n",
    "\n",
    "def clean_string(string):\n",
    "    return re.sub(\"[^0-9a-zA-Z ]+\", \"\", string).replace(\" \", \"-\")"
   ]
  }
 ],
 "metadata": {
  "language_info": {
   "name": "python"
  }
 },
 "nbformat": 4,
 "nbformat_minor": 5
}
